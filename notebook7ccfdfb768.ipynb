{
 "cells": [
  {
   "cell_type": "code",
   "execution_count": 1,
   "id": "dede04c5",
   "metadata": {
    "_cell_guid": "b1076dfc-b9ad-4769-8c92-a6c4dae69d19",
    "_uuid": "8f2839f25d086af736a60e9eeb907d3b93b6e0e5",
    "execution": {
     "iopub.execute_input": "2022-04-11T16:57:28.985618Z",
     "iopub.status.busy": "2022-04-11T16:57:28.983660Z",
     "iopub.status.idle": "2022-04-11T16:57:32.851825Z",
     "shell.execute_reply": "2022-04-11T16:57:32.852490Z",
     "shell.execute_reply.started": "2022-04-11T16:48:29.247556Z"
    },
    "papermill": {
     "duration": 3.892348,
     "end_time": "2022-04-11T16:57:32.852905",
     "exception": false,
     "start_time": "2022-04-11T16:57:28.960557",
     "status": "completed"
    },
    "tags": []
   },
   "outputs": [],
   "source": [
    "# This Python 3 environment comes with many helpful analytics libraries installed\n",
    "# It is defined by the kaggle/python Docker image: https://github.com/kaggle/docker-python\n",
    "# For example, here's several helpful packages to load\n",
    "\n",
    "import numpy as np # linear algebra\n",
    "import pandas as pd # data processing, CSV file I/O (e.g. pd.read_csv)\n",
    "import matplotlib.pyplot as plt\n",
    "from sklearn.linear_model import LinearRegression\n",
    "from sklearn.preprocessing import PolynomialFeatures\n",
    "from sklearn.metrics import mean_absolute_error\n",
    "from sklearn.linear_model import Ridge\n",
    "from sklearn.linear_model import RidgeCV\n",
    "from sklearn.linear_model import Lasso, LassoCV\n",
    "from sklearn.model_selection import GridSearchCV\n",
    "from sklearn.preprocessing import LabelEncoder\n",
    "from sklearn.preprocessing import OneHotEncoder\n",
    "import xgboost as xgb\n",
    "\n",
    "# Input data files are available in the read-only \"../input/\" directory\n",
    "# For example, running this (by clicking run or pressing Shift+Enter) will list all files under the input directory\n",
    "\n",
    "#import os\n",
    "#for dirname, _, filenames in os.walk('/kaggle/input'):\n",
    "#    for filename in filenames: \n",
    "#        print(os.path.join(dirname, filename))  \n",
    "\n",
    "# You can write up to 20GB to the current directory (/kaggle/working/) that gets preserved as output when you create a version using \"Save & Run All\" \n",
    "# You can also write temporary files to /kaggle/temp/, but they won't be saved outside of the current session\n",
    "\n",
    "\n",
    "train_data = pd.read_csv(\"/kaggle/input/coms4771-spring-2022-regression-competition/train_examples.csv\")\n",
    "train_label = pd.read_csv(\"/kaggle/input/coms4771-spring-2022-regression-competition/train_labels.csv\")\n",
    "test_data = pd.read_csv(\"/kaggle/input/coms4771-spring-2022-regression-competition/test_examples.csv\")\n",
    "\n",
    "\n",
    "\n",
    "\n",
    "\n",
    " "
   ]
  },
  {
   "cell_type": "code",
   "execution_count": 2,
   "id": "bbbc53f2",
   "metadata": {
    "execution": {
     "iopub.execute_input": "2022-04-11T16:57:32.895162Z",
     "iopub.status.busy": "2022-04-11T16:57:32.894419Z",
     "iopub.status.idle": "2022-04-11T16:57:32.980287Z",
     "shell.execute_reply": "2022-04-11T16:57:32.979591Z",
     "shell.execute_reply.started": "2022-04-11T16:48:32.195188Z"
    },
    "papermill": {
     "duration": 0.111501,
     "end_time": "2022-04-11T16:57:32.980483",
     "exception": false,
     "start_time": "2022-04-11T16:57:32.868982",
     "status": "completed"
    },
    "tags": []
   },
   "outputs": [],
   "source": [
    "\n",
    "train_data['duration'] = train_label['duration']\n",
    "train_data = train_data[train_data['feature_9'] < 1000000]\n",
    "\n",
    "\n"
   ]
  },
  {
   "cell_type": "code",
   "execution_count": 3,
   "id": "c4459b18",
   "metadata": {
    "execution": {
     "iopub.execute_input": "2022-04-11T16:57:33.014610Z",
     "iopub.status.busy": "2022-04-11T16:57:33.013839Z",
     "iopub.status.idle": "2022-04-11T16:57:33.054631Z",
     "shell.execute_reply": "2022-04-11T16:57:33.055170Z",
     "shell.execute_reply.started": "2022-04-11T16:48:32.261512Z"
    },
    "papermill": {
     "duration": 0.060065,
     "end_time": "2022-04-11T16:57:33.055418",
     "exception": false,
     "start_time": "2022-04-11T16:57:32.995353",
     "status": "completed"
    },
    "tags": []
   },
   "outputs": [],
   "source": [
    "y_train = train_data['duration']\n",
    "x_train = train_data.iloc[:, 2:]\n",
    "x_train = x_train.iloc[:, :-1]\n",
    "\n"
   ]
  },
  {
   "cell_type": "code",
   "execution_count": 4,
   "id": "ba1e307c",
   "metadata": {
    "execution": {
     "iopub.execute_input": "2022-04-11T16:57:33.090355Z",
     "iopub.status.busy": "2022-04-11T16:57:33.089531Z",
     "iopub.status.idle": "2022-04-11T16:57:33.399937Z",
     "shell.execute_reply": "2022-04-11T16:57:33.399219Z",
     "shell.execute_reply.started": "2022-04-11T16:48:32.292723Z"
    },
    "papermill": {
     "duration": 0.329476,
     "end_time": "2022-04-11T16:57:33.400123",
     "exception": false,
     "start_time": "2022-04-11T16:57:33.070647",
     "status": "completed"
    },
    "tags": []
   },
   "outputs": [],
   "source": [
    "test_data[\"feature_0\"].astype(\"category\")\n",
    "x_test = test_data.iloc[:, 2:]\n"
   ]
  },
  {
   "cell_type": "code",
   "execution_count": 5,
   "id": "5a8da464",
   "metadata": {
    "execution": {
     "iopub.execute_input": "2022-04-11T16:57:33.439457Z",
     "iopub.status.busy": "2022-04-11T16:57:33.438579Z",
     "iopub.status.idle": "2022-04-11T16:57:36.467953Z",
     "shell.execute_reply": "2022-04-11T16:57:36.468868Z",
     "shell.execute_reply.started": "2022-04-11T16:48:32.458150Z"
    },
    "papermill": {
     "duration": 3.05394,
     "end_time": "2022-04-11T16:57:36.469208",
     "exception": false,
     "start_time": "2022-04-11T16:57:33.415268",
     "status": "completed"
    },
    "tags": []
   },
   "outputs": [
    {
     "name": "stdout",
     "output_type": "stream",
     "text": [
      "32.279721173385866\n"
     ]
    }
   ],
   "source": [
    "LassoCV_model = LassoCV()\n",
    "LassoCV_model.fit(x_train, y_train)\n",
    "optimal_alpha = LassoCV_model.alpha_\n",
    "print(optimal_alpha)"
   ]
  },
  {
   "cell_type": "code",
   "execution_count": 6,
   "id": "3a04a4ce",
   "metadata": {
    "execution": {
     "iopub.execute_input": "2022-04-11T16:57:36.540021Z",
     "iopub.status.busy": "2022-04-11T16:57:36.538806Z",
     "iopub.status.idle": "2022-04-11T16:57:36.770298Z",
     "shell.execute_reply": "2022-04-11T16:57:36.772066Z",
     "shell.execute_reply.started": "2022-04-11T16:48:35.149891Z"
    },
    "papermill": {
     "duration": 0.274558,
     "end_time": "2022-04-11T16:57:36.772453",
     "exception": false,
     "start_time": "2022-04-11T16:57:36.497895",
     "status": "completed"
    },
    "tags": []
   },
   "outputs": [
    {
     "name": "stdout",
     "output_type": "stream",
     "text": [
      "[1141.1233246   967.9494649  1053.68137183 ...  845.41825693 1659.67873038\n",
      " 1717.39010632]\n"
     ]
    }
   ],
   "source": [
    "lasso_model = Lasso(alpha = optimal_alpha)\n",
    "lasso_model.fit(X=x_train, y=y_train)\n",
    "lasso_predictions = lasso_model.predict(x_test)\n",
    "print(lasso_predictions)"
   ]
  },
  {
   "cell_type": "code",
   "execution_count": 7,
   "id": "c1460fa7",
   "metadata": {
    "execution": {
     "iopub.execute_input": "2022-04-11T16:57:36.872918Z",
     "iopub.status.busy": "2022-04-11T16:57:36.871728Z",
     "iopub.status.idle": "2022-04-11T16:57:36.886006Z",
     "shell.execute_reply": "2022-04-11T16:57:36.887158Z",
     "shell.execute_reply.started": "2022-04-11T16:48:35.351830Z"
    },
    "papermill": {
     "duration": 0.061438,
     "end_time": "2022-04-11T16:57:36.887533",
     "exception": false,
     "start_time": "2022-04-11T16:57:36.826095",
     "status": "completed"
    },
    "tags": []
   },
   "outputs": [
    {
     "name": "stdout",
     "output_type": "stream",
     "text": [
      "          id     duration\n",
      "0          0  1141.123325\n",
      "1          1   967.949465\n",
      "2          2  1053.681372\n",
      "3          3   837.687423\n",
      "4          4  1283.833222\n",
      "...      ...          ...\n",
      "99995  99995  1415.217565\n",
      "99996  99996   856.117067\n",
      "99997  99997   845.418257\n",
      "99998  99998  1659.678730\n",
      "99999  99999  1717.390106\n",
      "\n",
      "[100000 rows x 2 columns]\n"
     ]
    }
   ],
   "source": [
    "df_lasso = pd.DataFrame(lasso_predictions, columns = ['duration'])\n",
    "df_lasso.insert(loc=0, column='id', value=np.arange(len(df_lasso)))\n",
    "print(df_lasso)"
   ]
  },
  {
   "cell_type": "code",
   "execution_count": 8,
   "id": "fe0c39da",
   "metadata": {
    "execution": {
     "iopub.execute_input": "2022-04-11T16:57:36.926770Z",
     "iopub.status.busy": "2022-04-11T16:57:36.925719Z",
     "iopub.status.idle": "2022-04-11T16:57:37.280919Z",
     "shell.execute_reply": "2022-04-11T16:57:37.280153Z",
     "shell.execute_reply.started": "2022-04-11T16:48:35.382717Z"
    },
    "papermill": {
     "duration": 0.376174,
     "end_time": "2022-04-11T16:57:37.281106",
     "exception": false,
     "start_time": "2022-04-11T16:57:36.904932",
     "status": "completed"
    },
    "tags": []
   },
   "outputs": [],
   "source": [
    "df_lasso.to_csv(\"/kaggle/working/output6.csv\", index=False)"
   ]
  },
  {
   "cell_type": "code",
   "execution_count": 9,
   "id": "df945394",
   "metadata": {
    "execution": {
     "iopub.execute_input": "2022-04-11T16:57:37.322055Z",
     "iopub.status.busy": "2022-04-11T16:57:37.321315Z",
     "iopub.status.idle": "2022-04-11T16:57:37.366887Z",
     "shell.execute_reply": "2022-04-11T16:57:37.368680Z",
     "shell.execute_reply.started": "2022-04-11T16:48:45.971856Z"
    },
    "papermill": {
     "duration": 0.071543,
     "end_time": "2022-04-11T16:57:37.369082",
     "exception": false,
     "start_time": "2022-04-11T16:57:37.297539",
     "status": "completed"
    },
    "tags": []
   },
   "outputs": [
    {
     "name": "stdout",
     "output_type": "stream",
     "text": [
      "0.023843364159232938\n"
     ]
    }
   ],
   "source": [
    "\n",
    "print(lasso_model.score(x_train, y_train))"
   ]
  },
  {
   "cell_type": "code",
   "execution_count": 10,
   "id": "e3afc4bf",
   "metadata": {
    "execution": {
     "iopub.execute_input": "2022-04-11T16:57:37.445309Z",
     "iopub.status.busy": "2022-04-11T16:57:37.444083Z",
     "iopub.status.idle": "2022-04-11T17:05:18.099064Z",
     "shell.execute_reply": "2022-04-11T17:05:18.099932Z",
     "shell.execute_reply.started": "2022-04-11T16:48:48.136078Z"
    },
    "papermill": {
     "duration": 460.698902,
     "end_time": "2022-04-11T17:05:18.100219",
     "exception": false,
     "start_time": "2022-04-11T16:57:37.401317",
     "status": "completed"
    },
    "tags": []
   },
   "outputs": [
    {
     "name": "stdout",
     "output_type": "stream",
     "text": [
      "Fitting 3 folds for each of 3 candidates, totalling 9 fits\n",
      "Best parameters: {'colsample_bytree': 0.8, 'learning_rate': 0.01, 'max_depth': 5, 'n_estimators': 200}\n"
     ]
    }
   ],
   "source": [
    "params = { 'max_depth': [5],\n",
    "           'learning_rate': [0.01],\n",
    "           'n_estimators': [200],\n",
    "           'colsample_bytree': [0.75, 0.8, 0.85]}\n",
    "xgbr = xgb.XGBRegressor()\n",
    "clf = GridSearchCV(estimator=xgbr, \n",
    "                   param_grid=params,\n",
    "                   scoring='neg_mean_absolute_error', \n",
    "                   verbose=1, cv=3, n_jobs = -1)\n",
    "clf.fit(x_train, y_train)\n",
    "print(\"Best parameters:\", clf.best_params_)"
   ]
  },
  {
   "cell_type": "code",
   "execution_count": 11,
   "id": "862e32ba",
   "metadata": {
    "execution": {
     "iopub.execute_input": "2022-04-11T17:05:18.142581Z",
     "iopub.status.busy": "2022-04-11T17:05:18.141795Z",
     "iopub.status.idle": "2022-04-11T17:05:58.810727Z",
     "shell.execute_reply": "2022-04-11T17:05:58.811291Z",
     "shell.execute_reply.started": "2022-04-11T16:49:14.517196Z"
    },
    "papermill": {
     "duration": 40.691593,
     "end_time": "2022-04-11T17:05:58.811531",
     "exception": false,
     "start_time": "2022-04-11T17:05:18.119938",
     "status": "completed"
    },
    "tags": []
   },
   "outputs": [
    {
     "name": "stdout",
     "output_type": "stream",
     "text": [
      "[ 374.12796  583.4616   903.3415  ...  520.5629  1330.3694  1279.6189 ]\n"
     ]
    }
   ],
   "source": [
    "xgb_model = xgb.XGBRegressor(max_depth=5, n_estimators=200, eval_metric ='mae', learning_rate=0.01, reg_alpha=30, subsample=0.8)\n",
    "xgb_model.fit(x_train, y_train)\n",
    "xgb_predictions = xgb_model.predict(x_test)\n",
    "print(xgb_predictions)"
   ]
  },
  {
   "cell_type": "code",
   "execution_count": 12,
   "id": "ba59a503",
   "metadata": {
    "execution": {
     "iopub.execute_input": "2022-04-11T17:05:58.856247Z",
     "iopub.status.busy": "2022-04-11T17:05:58.855449Z",
     "iopub.status.idle": "2022-04-11T17:05:58.866926Z",
     "shell.execute_reply": "2022-04-11T17:05:58.867796Z",
     "shell.execute_reply.started": "2022-04-11T16:49:51.398806Z"
    },
    "papermill": {
     "duration": 0.037787,
     "end_time": "2022-04-11T17:05:58.868105",
     "exception": false,
     "start_time": "2022-04-11T17:05:58.830318",
     "status": "completed"
    },
    "tags": []
   },
   "outputs": [
    {
     "name": "stdout",
     "output_type": "stream",
     "text": [
      "          id     duration\n",
      "0          0   374.127960\n",
      "1          1   583.461609\n",
      "2          2   903.341492\n",
      "3          3   254.128265\n",
      "4          4  1032.530273\n",
      "...      ...          ...\n",
      "99995  99995   369.044189\n",
      "99996  99996   422.675232\n",
      "99997  99997   520.562927\n",
      "99998  99998  1330.369385\n",
      "99999  99999  1279.618896\n",
      "\n",
      "[100000 rows x 2 columns]\n"
     ]
    }
   ],
   "source": [
    "df_xgb = pd.DataFrame(xgb_predictions, columns = ['duration'])\n",
    "df_xgb.insert(loc=0, column='id', value=np.arange(len(df_xgb)))\n",
    "print(df_xgb)"
   ]
  },
  {
   "cell_type": "code",
   "execution_count": 13,
   "id": "511b5f63",
   "metadata": {
    "execution": {
     "iopub.execute_input": "2022-04-11T17:05:58.915092Z",
     "iopub.status.busy": "2022-04-11T17:05:58.914225Z",
     "iopub.status.idle": "2022-04-11T17:05:59.196764Z",
     "shell.execute_reply": "2022-04-11T17:05:59.196003Z",
     "shell.execute_reply.started": "2022-04-11T16:49:54.536749Z"
    },
    "papermill": {
     "duration": 0.308881,
     "end_time": "2022-04-11T17:05:59.196934",
     "exception": false,
     "start_time": "2022-04-11T17:05:58.888053",
     "status": "completed"
    },
    "tags": []
   },
   "outputs": [],
   "source": [
    "df_xgb.to_csv(\"/kaggle/working/output.csv\", index=False)"
   ]
  }
 ],
 "metadata": {
  "kernelspec": {
   "display_name": "Python 3",
   "language": "python",
   "name": "python3"
  },
  "language_info": {
   "codemirror_mode": {
    "name": "ipython",
    "version": 3
   },
   "file_extension": ".py",
   "mimetype": "text/x-python",
   "name": "python",
   "nbconvert_exporter": "python",
   "pygments_lexer": "ipython3",
   "version": "3.7.12"
  },
  "papermill": {
   "default_parameters": {},
   "duration": 523.464366,
   "end_time": "2022-04-11T17:06:00.535267",
   "environment_variables": {},
   "exception": null,
   "input_path": "__notebook__.ipynb",
   "output_path": "__notebook__.ipynb",
   "parameters": {},
   "start_time": "2022-04-11T16:57:17.070901",
   "version": "2.3.3"
  }
 },
 "nbformat": 4,
 "nbformat_minor": 5
}
